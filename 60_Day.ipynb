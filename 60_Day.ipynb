{
  "nbformat": 4,
  "nbformat_minor": 0,
  "metadata": {
    "colab": {
      "provenance": []
    },
    "kernelspec": {
      "name": "python3",
      "display_name": "Python 3"
    },
    "language_info": {
      "name": "python"
    }
  },
  "cells": [
    {
      "cell_type": "code",
      "execution_count": 2,
      "metadata": {
        "colab": {
          "base_uri": "https://localhost:8080/"
        },
        "id": "Fegt8VB-24bF",
        "outputId": "1fc555b9-ab41-43bf-de45-4aa677b0b67d"
      },
      "outputs": [
        {
          "output_type": "execute_result",
          "data": {
            "text/plain": [
              "['o', 'l', 'l', 'e', 'h']"
            ]
          },
          "metadata": {},
          "execution_count": 2
        }
      ],
      "source": [
        "#Reverse a string\n",
        "\n",
        "def reverse(arr):\n",
        "\n",
        "  l, r = 0 ,len(arr)-1\n",
        "  while l <r:\n",
        "    arr[l],arr[r] =arr[r],arr[l]\n",
        "    l +=1\n",
        "    r -=1\n",
        "\n",
        "  return arr\n",
        "\n",
        "reverse(['h','e','l','l','o'])\n",
        "\n"
      ]
    },
    {
      "cell_type": "code",
      "source": [
        "#stack implementation\n",
        "\n",
        "def stack_implementation(arr):\n",
        "\n",
        "  stack =[]\n",
        "  print(type(stack))\n",
        "\n",
        "  for c in arr:\n",
        "    stack.append(c)\n",
        "  print(stack)\n",
        "\n",
        "  i=0\n",
        "  while stack:\n",
        "    arr[i] = stack.pop()\n",
        "    i+=1\n",
        "  return arr\n",
        "\n",
        "stack_implementation(['h','e','l','l','o'])"
      ],
      "metadata": {
        "colab": {
          "base_uri": "https://localhost:8080/"
        },
        "id": "8k7SJtFj3thj",
        "outputId": "f6516385-953e-4d52-ab7e-9b8c067587e9"
      },
      "execution_count": 5,
      "outputs": [
        {
          "output_type": "stream",
          "name": "stdout",
          "text": [
            "<class 'list'>\n",
            "['h', 'e', 'l', 'l', 'o']\n"
          ]
        },
        {
          "output_type": "execute_result",
          "data": {
            "text/plain": [
              "['o', 'l', 'l', 'e', 'h']"
            ]
          },
          "metadata": {},
          "execution_count": 5
        }
      ]
    },
    {
      "cell_type": "code",
      "source": [
        "#recursion\n",
        "\n",
        "def recursion(arr):\n",
        "\n",
        "  def logic(l,r):\n",
        "    if l<r:\n",
        "      arr[l],arr[r] =arr[r],arr[l]\n",
        "      logic(l+1,r-1)\n",
        "    logic(0,len(arr)-1)\n",
        ""
      ],
      "metadata": {
        "id": "Zwqo7Ltg4kFy"
      },
      "execution_count": null,
      "outputs": []
    },
    {
      "cell_type": "code",
      "source": [
        "#list --> mutuabel, ordered and allow duplicates\n",
        "#set --> unordered, mutable, unique\n",
        "#tuple --> ordered, immutable, allow duplications\n",
        "# list []\n",
        "# set {}\n",
        "#tuple ()\n"
      ],
      "metadata": {
        "id": "ZxpF7kLC5Yym"
      },
      "execution_count": null,
      "outputs": []
    }
  ]
}